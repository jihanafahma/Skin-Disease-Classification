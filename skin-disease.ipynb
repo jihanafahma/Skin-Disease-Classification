{
 "cells": [
  {
   "cell_type": "markdown",
   "id": "92c16089",
   "metadata": {},
   "source": [
    "## Import Libraries"
   ]
  },
  {
   "cell_type": "code",
   "execution_count": 1,
   "id": "e72ad761",
   "metadata": {},
   "outputs": [],
   "source": [
    "import os\n",
    "import random\n",
    "from glob import glob\n",
    "from PIL import Image\n",
    "from tqdm import tqdm\n",
    "\n",
    "import pandas as pd\n",
    "import numpy as np\n",
    "import matplotlib.pyplot as plt\n",
    "import seaborn as sns\n",
    "\n",
    "import tensorflow as tf\n",
    "from tensorflow.keras.preprocessing.image import ImageDataGenerator\n",
    "from tensorflow.keras.models import Sequential\n",
    "from tensorflow.keras.layers import Conv2D, Flatten, BatchNormalization, Dropout, Dense, MaxPool2D\n",
    "from tensorflow.keras.callbacks import ReduceLROnPlateau, EarlyStopping\n",
    "\n",
    "from sklearn.model_selection import train_test_split\n",
    "from sklearn.metrics import classification_report, confusion_matrix\n",
    "\n",
    "from imblearn.over_sampling import RandomOverSampler\n",
    "from imblearn.over_sampling import SMOTE"
   ]
  },
  {
   "cell_type": "markdown",
   "id": "f6fc1cbe",
   "metadata": {},
   "source": [
    "### Function : prepare train test"
   ]
  },
  {
   "cell_type": "code",
   "execution_count": 38,
   "id": "3b8243c9",
   "metadata": {},
   "outputs": [],
   "source": [
    "def train_test_prepare(X, Y):\n",
    "    X_train, X_test, Y_train, Y_test = train_test_split(X, Y, test_size=0.2, random_state=2)\n",
    "    \n",
    "    train_datagen = ImageDataGenerator(\n",
    "                        rescale= 1./255,\n",
    "                        rotation_range=40,\n",
    "                        width_shift_range=0.5,\n",
    "                        height_shift_range=0.5,\n",
    "                        shear_range=0.5,\n",
    "                        horizontal_flip=True,\n",
    "                        vertical_flip=True,\n",
    "                        fill_mode='nearest')\n",
    "    train_datagen.fit(X_train)\n",
    "    \n",
    "    test_datagen = ImageDataGenerator(\n",
    "                        rescale= 1./255)\n",
    "    test_datagen.fit(X_test)\n",
    "    \n",
    "    return X_train, X_test, Y_train, Y_test"
   ]
  },
  {
   "cell_type": "markdown",
   "id": "607064da",
   "metadata": {},
   "source": [
    "### Function : build model"
   ]
  },
  {
   "cell_type": "code",
   "execution_count": 3,
   "id": "1a497d57",
   "metadata": {},
   "outputs": [],
   "source": [
    "def model_build():\n",
    "\n",
    "    model = tf.keras.models.Sequential([\n",
    "            tf.keras.layers.Conv2D(16, (3,3), input_shape=(28, 28, 3), activation='relu', padding = 'same'),\n",
    "            tf.keras.layers.MaxPool2D((2,2)),\n",
    "            tf.keras.layers.Conv2D(32, (3,3), activation='relu', padding = 'same'),\n",
    "            tf.keras.layers.MaxPool2D((2,2)),\n",
    "            tf.keras.layers.Conv2D(64, (3,3), activation='relu', padding = 'same'),\n",
    "            tf.keras.layers.MaxPool2D((2,2)),\n",
    "            tf.keras.layers.Flatten(),\n",
    "            tf.keras.layers.Dense(32, activation='relu'),\n",
    "            tf.keras.layers.Dense(16, activation='relu'),\n",
    "            tf.keras.layers.Dense(7, activation='softmax')\n",
    "    ])\n",
    "    \n",
    "    model.compile(\n",
    "            loss='sparse_categorical_crossentropy',\n",
    "            optimizer=tf.keras.optimizers.Adam(learning_rate = 0.001),\n",
    "            metrics=['accuracy'])\n",
    "    \n",
    "    print(model.summary())\n",
    "    return model"
   ]
  },
  {
   "cell_type": "code",
   "execution_count": 4,
   "id": "87a1bf6d",
   "metadata": {},
   "outputs": [],
   "source": [
    "def model_build_1():\n",
    "\n",
    "    model = tf.keras.models.Sequential([\n",
    "            tf.keras.layers.Conv2D(16, (3,3), input_shape=(28, 28, 3), activation='relu', padding = 'same'),\n",
    "            tf.keras.layers.MaxPool2D((2,2)),\n",
    "            tf.keras.layers.Conv2D(32, (3,3), activation='relu', padding = 'same'),\n",
    "            tf.keras.layers.MaxPool2D((2,2)),\n",
    "            tf.keras.layers.Conv2D(64, (3,3), activation='relu', padding = 'same'),\n",
    "            tf.keras.layers.MaxPool2D((2,2)),\n",
    "            tf.keras.layers.Flatten(),\n",
    "            tf.keras.layers.Dense(32, activation='relu'),\n",
    "            tf.keras.layers.Dense(16, activation='relu'),\n",
    "            tf.keras.layers.Dense(7, activation='softmax')\n",
    "    ])\n",
    "    \n",
    "    model.compile(\n",
    "            loss='sparse_categorical_crossentropy',\n",
    "            optimizer=tf.keras.optimizers.Adam(learning_rate = 0.001),\n",
    "            metrics=['accuracy'])\n",
    "    \n",
    "    print(model.summary())\n",
    "    return model"
   ]
  },
  {
   "cell_type": "markdown",
   "id": "0183f116",
   "metadata": {},
   "source": [
    "### Function : train model"
   ]
  },
  {
   "cell_type": "code",
   "execution_count": 5,
   "id": "458bacc8",
   "metadata": {},
   "outputs": [],
   "source": [
    "def model_train(model, X_train, Y_train, EPOCHS=25):\n",
    "    reduce_lr = ReduceLROnPlateau(monitor='val_loss', factor=0.1, patience=5, min_lr=0, verbose=1, mode=\"auto\")\n",
    "        \n",
    "    history = model.fit(\n",
    "                    X_train,\n",
    "                    Y_train,\n",
    "                    epochs= EPOCHS,\n",
    "                    batch_size = 64,\n",
    "                    callbacks= [reduce_lr],\n",
    "                    validation_split=0.1)\n",
    "    return history"
   ]
  },
  {
   "cell_type": "markdown",
   "id": "e3f7a01a",
   "metadata": {},
   "source": [
    "### Function : Plot "
   ]
  },
  {
   "cell_type": "code",
   "execution_count": 6,
   "id": "7b653ad0",
   "metadata": {},
   "outputs": [],
   "source": [
    "def plot_acc(history):\n",
    "    plt.plot(history.history['loss'])\n",
    "    plt.plot(history.history['val_loss'])\n",
    "    plt.title('Loss')\n",
    "    plt.ylabel('loss')\n",
    "    plt.xlabel('epoch')\n",
    "    plt.legend(['Train', 'Test'], loc='upper left')\n",
    "    plt.show()\n",
    "\n",
    "    plt.plot(history.history['accuracy'])\n",
    "    plt.plot(history.history['val_accuracy'])\n",
    "    plt.title('Accuracy')\n",
    "    plt.ylabel('acc')\n",
    "    plt.xlabel('epoch')\n",
    "    plt.legend(['Train', 'Test'], loc='upper left')\n",
    "    plt.show()"
   ]
  },
  {
   "cell_type": "markdown",
   "id": "12be0a10",
   "metadata": {},
   "source": [
    "### Function : test model"
   ]
  },
  {
   "cell_type": "code",
   "execution_count": 7,
   "id": "cb7f5d9a",
   "metadata": {},
   "outputs": [],
   "source": [
    "def model_test(model, X_test, Y_test):\n",
    "    true_label = np.array(Y_test)\n",
    "    predicted_label = model.predict(X_test)\n",
    "    predicted_label = np.array(list(map(lambda x: np.argmax(x), predicted_label)))\n",
    "    \n",
    "    sample_images = X_test[:20]\n",
    "    plt.figure(figsize=(22, 12))\n",
    "    for i in range(20):\n",
    "        plt.subplot(4, 5, i + 1)\n",
    "        plt.imshow(sample_images[i])\n",
    "        plt.title('true : ' + dict_label[true_label[i]] + ' - predicted : ' + dict_label[predicted_label[i]])\n",
    "        plt.axis(\"off\")\n",
    "    plt.show()\n",
    "    "
   ]
  },
  {
   "cell_type": "markdown",
   "id": "17dcb343",
   "metadata": {},
   "source": [
    "### Function : Confusion Matrix"
   ]
  },
  {
   "cell_type": "code",
   "execution_count": 8,
   "id": "4a40bb34",
   "metadata": {},
   "outputs": [],
   "source": [
    "def matrix_conf(model, X_test, Y_test):\n",
    "    \n",
    "    accuracy = model.evaluate(X_test, Y_test, verbose=0)[1]\n",
    "    print('Accuracy : {:.2f}%'.format(accuracy * 100))\n",
    "    \n",
    "    true_label = np.array(Y_test)\n",
    "    predicted_label = model.predict(X_test)\n",
    "    predicted_label = np.array(list(map(lambda x: np.argmax(x), predicted_label)))\n",
    "    \n",
    "    clr = classification_report(true_label, predicted_label, target_names=dict_label.values())\n",
    "    print(clr)\n",
    "\n",
    "    matrix = confusion_matrix(true_label, predicted_label)\n",
    "    print (matrix)\n",
    "    \n",
    "    plt.figure(figsize=(10,8))\n",
    "    sns.heatmap(matrix, annot=True, fmt=\"d\");"
   ]
  },
  {
   "cell_type": "markdown",
   "id": "dd2ed7b0",
   "metadata": {},
   "source": [
    "## Read Data"
   ]
  },
  {
   "cell_type": "code",
   "execution_count": 9,
   "id": "df9b5fb9",
   "metadata": {},
   "outputs": [],
   "source": [
    "base_dir = os.path.join('..', 'dataset_skin')\n",
    "\n",
    "# create dictionary for image path\n",
    "imageid_path_dict = {os.path.splitext(os.path.basename(x))[0]: x\n",
    "                     for x in glob(os.path.join(base_dir,\"mnist-ham10000/\", '*', '*.jpg'))}\n",
    "\n",
    "# create dictionary for lesions\n",
    "lesions_dict = {\n",
    "    'nv': 'Melanocytic Nevi',   # kutil\n",
    "    'mel': 'Melanoma',          # kanker\n",
    "    'bkl': 'Benign Keratosis-like Lesions',  # kanker jinak\n",
    "    'bcc': 'Basal Cell Carcinoma',   # keganasan sel basal\n",
    "    'akiec': 'Actinic Keratoses',\n",
    "    'vasc': 'Vascular Lesions',\n",
    "    'df': 'Dermatofibroma'\n",
    "}"
   ]
  },
  {
   "cell_type": "code",
   "execution_count": 10,
   "id": "fc4e6d54",
   "metadata": {},
   "outputs": [],
   "source": [
    "dict_label = {\n",
    "        0: 'akiec',\n",
    "        1: 'bcc',\n",
    "        2: 'bkl',\n",
    "        3: 'df',\n",
    "        4: 'nv',\n",
    "        5: 'mel',\n",
    "        6: 'vasc'\n",
    "    }"
   ]
  },
  {
   "cell_type": "code",
   "execution_count": 11,
   "id": "910c848c",
   "metadata": {},
   "outputs": [],
   "source": [
    "df = pd.read_csv(os.path.join(base_dir,\"mnist-ham10000/\",'HAM10000_metadata.csv'))"
   ]
  },
  {
   "cell_type": "code",
   "execution_count": 12,
   "id": "41c70309",
   "metadata": {},
   "outputs": [
    {
     "data": {
      "text/html": [
       "<div>\n",
       "<style scoped>\n",
       "    .dataframe tbody tr th:only-of-type {\n",
       "        vertical-align: middle;\n",
       "    }\n",
       "\n",
       "    .dataframe tbody tr th {\n",
       "        vertical-align: top;\n",
       "    }\n",
       "\n",
       "    .dataframe thead th {\n",
       "        text-align: right;\n",
       "    }\n",
       "</style>\n",
       "<table border=\"1\" class=\"dataframe\">\n",
       "  <thead>\n",
       "    <tr style=\"text-align: right;\">\n",
       "      <th></th>\n",
       "      <th>lesion_id</th>\n",
       "      <th>image_id</th>\n",
       "      <th>dx</th>\n",
       "      <th>dx_type</th>\n",
       "      <th>age</th>\n",
       "      <th>sex</th>\n",
       "      <th>localization</th>\n",
       "    </tr>\n",
       "  </thead>\n",
       "  <tbody>\n",
       "    <tr>\n",
       "      <th>0</th>\n",
       "      <td>HAM_0000118</td>\n",
       "      <td>ISIC_0027419</td>\n",
       "      <td>bkl</td>\n",
       "      <td>histo</td>\n",
       "      <td>80.0</td>\n",
       "      <td>male</td>\n",
       "      <td>scalp</td>\n",
       "    </tr>\n",
       "    <tr>\n",
       "      <th>1</th>\n",
       "      <td>HAM_0000118</td>\n",
       "      <td>ISIC_0025030</td>\n",
       "      <td>bkl</td>\n",
       "      <td>histo</td>\n",
       "      <td>80.0</td>\n",
       "      <td>male</td>\n",
       "      <td>scalp</td>\n",
       "    </tr>\n",
       "    <tr>\n",
       "      <th>2</th>\n",
       "      <td>HAM_0002730</td>\n",
       "      <td>ISIC_0026769</td>\n",
       "      <td>bkl</td>\n",
       "      <td>histo</td>\n",
       "      <td>80.0</td>\n",
       "      <td>male</td>\n",
       "      <td>scalp</td>\n",
       "    </tr>\n",
       "    <tr>\n",
       "      <th>3</th>\n",
       "      <td>HAM_0002730</td>\n",
       "      <td>ISIC_0025661</td>\n",
       "      <td>bkl</td>\n",
       "      <td>histo</td>\n",
       "      <td>80.0</td>\n",
       "      <td>male</td>\n",
       "      <td>scalp</td>\n",
       "    </tr>\n",
       "    <tr>\n",
       "      <th>4</th>\n",
       "      <td>HAM_0001466</td>\n",
       "      <td>ISIC_0031633</td>\n",
       "      <td>bkl</td>\n",
       "      <td>histo</td>\n",
       "      <td>75.0</td>\n",
       "      <td>male</td>\n",
       "      <td>ear</td>\n",
       "    </tr>\n",
       "  </tbody>\n",
       "</table>\n",
       "</div>"
      ],
      "text/plain": [
       "     lesion_id      image_id   dx dx_type   age   sex localization\n",
       "0  HAM_0000118  ISIC_0027419  bkl   histo  80.0  male        scalp\n",
       "1  HAM_0000118  ISIC_0025030  bkl   histo  80.0  male        scalp\n",
       "2  HAM_0002730  ISIC_0026769  bkl   histo  80.0  male        scalp\n",
       "3  HAM_0002730  ISIC_0025661  bkl   histo  80.0  male        scalp\n",
       "4  HAM_0001466  ISIC_0031633  bkl   histo  75.0  male          ear"
      ]
     },
     "execution_count": 12,
     "metadata": {},
     "output_type": "execute_result"
    }
   ],
   "source": [
    "df.head()"
   ]
  },
  {
   "cell_type": "code",
   "execution_count": 13,
   "id": "ea0132a5",
   "metadata": {},
   "outputs": [],
   "source": [
    "df['lesion_type'] = df['dx'].map(lesions_dict.get)\n",
    "df['image_path'] = df['image_id'].map(imageid_path_dict.get)\n",
    "df['lesion_type_idx'] = pd.Categorical(df['lesion_type']).codes"
   ]
  },
  {
   "cell_type": "code",
   "execution_count": 14,
   "id": "c0b871f2",
   "metadata": {},
   "outputs": [
    {
     "data": {
      "text/html": [
       "<div>\n",
       "<style scoped>\n",
       "    .dataframe tbody tr th:only-of-type {\n",
       "        vertical-align: middle;\n",
       "    }\n",
       "\n",
       "    .dataframe tbody tr th {\n",
       "        vertical-align: top;\n",
       "    }\n",
       "\n",
       "    .dataframe thead th {\n",
       "        text-align: right;\n",
       "    }\n",
       "</style>\n",
       "<table border=\"1\" class=\"dataframe\">\n",
       "  <thead>\n",
       "    <tr style=\"text-align: right;\">\n",
       "      <th></th>\n",
       "      <th>lesion_id</th>\n",
       "      <th>image_id</th>\n",
       "      <th>dx</th>\n",
       "      <th>dx_type</th>\n",
       "      <th>age</th>\n",
       "      <th>sex</th>\n",
       "      <th>localization</th>\n",
       "      <th>lesion_type</th>\n",
       "      <th>image_path</th>\n",
       "      <th>lesion_type_idx</th>\n",
       "    </tr>\n",
       "  </thead>\n",
       "  <tbody>\n",
       "    <tr>\n",
       "      <th>0</th>\n",
       "      <td>HAM_0000118</td>\n",
       "      <td>ISIC_0027419</td>\n",
       "      <td>bkl</td>\n",
       "      <td>histo</td>\n",
       "      <td>80.0</td>\n",
       "      <td>male</td>\n",
       "      <td>scalp</td>\n",
       "      <td>Benign Keratosis-like Lesions</td>\n",
       "      <td>..\\dataset_skin\\mnist-ham10000\\HAM10000_images...</td>\n",
       "      <td>2</td>\n",
       "    </tr>\n",
       "    <tr>\n",
       "      <th>1</th>\n",
       "      <td>HAM_0000118</td>\n",
       "      <td>ISIC_0025030</td>\n",
       "      <td>bkl</td>\n",
       "      <td>histo</td>\n",
       "      <td>80.0</td>\n",
       "      <td>male</td>\n",
       "      <td>scalp</td>\n",
       "      <td>Benign Keratosis-like Lesions</td>\n",
       "      <td>..\\dataset_skin\\mnist-ham10000\\HAM10000_images...</td>\n",
       "      <td>2</td>\n",
       "    </tr>\n",
       "    <tr>\n",
       "      <th>2</th>\n",
       "      <td>HAM_0002730</td>\n",
       "      <td>ISIC_0026769</td>\n",
       "      <td>bkl</td>\n",
       "      <td>histo</td>\n",
       "      <td>80.0</td>\n",
       "      <td>male</td>\n",
       "      <td>scalp</td>\n",
       "      <td>Benign Keratosis-like Lesions</td>\n",
       "      <td>..\\dataset_skin\\mnist-ham10000\\HAM10000_images...</td>\n",
       "      <td>2</td>\n",
       "    </tr>\n",
       "    <tr>\n",
       "      <th>3</th>\n",
       "      <td>HAM_0002730</td>\n",
       "      <td>ISIC_0025661</td>\n",
       "      <td>bkl</td>\n",
       "      <td>histo</td>\n",
       "      <td>80.0</td>\n",
       "      <td>male</td>\n",
       "      <td>scalp</td>\n",
       "      <td>Benign Keratosis-like Lesions</td>\n",
       "      <td>..\\dataset_skin\\mnist-ham10000\\HAM10000_images...</td>\n",
       "      <td>2</td>\n",
       "    </tr>\n",
       "    <tr>\n",
       "      <th>4</th>\n",
       "      <td>HAM_0001466</td>\n",
       "      <td>ISIC_0031633</td>\n",
       "      <td>bkl</td>\n",
       "      <td>histo</td>\n",
       "      <td>75.0</td>\n",
       "      <td>male</td>\n",
       "      <td>ear</td>\n",
       "      <td>Benign Keratosis-like Lesions</td>\n",
       "      <td>..\\dataset_skin\\mnist-ham10000\\HAM10000_images...</td>\n",
       "      <td>2</td>\n",
       "    </tr>\n",
       "  </tbody>\n",
       "</table>\n",
       "</div>"
      ],
      "text/plain": [
       "     lesion_id      image_id   dx dx_type   age   sex localization  \\\n",
       "0  HAM_0000118  ISIC_0027419  bkl   histo  80.0  male        scalp   \n",
       "1  HAM_0000118  ISIC_0025030  bkl   histo  80.0  male        scalp   \n",
       "2  HAM_0002730  ISIC_0026769  bkl   histo  80.0  male        scalp   \n",
       "3  HAM_0002730  ISIC_0025661  bkl   histo  80.0  male        scalp   \n",
       "4  HAM_0001466  ISIC_0031633  bkl   histo  75.0  male          ear   \n",
       "\n",
       "                     lesion_type  \\\n",
       "0  Benign Keratosis-like Lesions   \n",
       "1  Benign Keratosis-like Lesions   \n",
       "2  Benign Keratosis-like Lesions   \n",
       "3  Benign Keratosis-like Lesions   \n",
       "4  Benign Keratosis-like Lesions   \n",
       "\n",
       "                                          image_path  lesion_type_idx  \n",
       "0  ..\\dataset_skin\\mnist-ham10000\\HAM10000_images...                2  \n",
       "1  ..\\dataset_skin\\mnist-ham10000\\HAM10000_images...                2  \n",
       "2  ..\\dataset_skin\\mnist-ham10000\\HAM10000_images...                2  \n",
       "3  ..\\dataset_skin\\mnist-ham10000\\HAM10000_images...                2  \n",
       "4  ..\\dataset_skin\\mnist-ham10000\\HAM10000_images...                2  "
      ]
     },
     "execution_count": 14,
     "metadata": {},
     "output_type": "execute_result"
    }
   ],
   "source": [
    "df.head()"
   ]
  },
  {
   "cell_type": "code",
   "execution_count": 15,
   "id": "898277d3",
   "metadata": {},
   "outputs": [],
   "source": [
    "df.drop(df[df['image_id'] == 'ISIC_0030381'].index, inplace=True)"
   ]
  },
  {
   "cell_type": "code",
   "execution_count": 16,
   "id": "57bd6be2",
   "metadata": {},
   "outputs": [
    {
     "data": {
      "text/plain": [
       "7"
      ]
     },
     "execution_count": 16,
     "metadata": {},
     "output_type": "execute_result"
    }
   ],
   "source": [
    "df['lesion_type_idx'].nunique()"
   ]
  },
  {
   "cell_type": "code",
   "execution_count": 17,
   "id": "e4d2c48e",
   "metadata": {},
   "outputs": [
    {
     "name": "stderr",
     "output_type": "stream",
     "text": [
      "100%|████████████████████████████████████████████████████████████████████████████| 10014/10014 [14:40<00:00, 11.37it/s]\n"
     ]
    }
   ],
   "source": [
    "tqdm.pandas()\n",
    "\n",
    "df['image_pixel'] = df['image_path'].progress_apply(lambda x: np.asarray(Image.open(x).resize((28,28))))"
   ]
  },
  {
   "cell_type": "code",
   "execution_count": 18,
   "id": "ecdce4ce",
   "metadata": {
    "scrolled": true
   },
   "outputs": [
    {
     "data": {
      "text/html": [
       "<div>\n",
       "<style scoped>\n",
       "    .dataframe tbody tr th:only-of-type {\n",
       "        vertical-align: middle;\n",
       "    }\n",
       "\n",
       "    .dataframe tbody tr th {\n",
       "        vertical-align: top;\n",
       "    }\n",
       "\n",
       "    .dataframe thead th {\n",
       "        text-align: right;\n",
       "    }\n",
       "</style>\n",
       "<table border=\"1\" class=\"dataframe\">\n",
       "  <thead>\n",
       "    <tr style=\"text-align: right;\">\n",
       "      <th></th>\n",
       "      <th>lesion_id</th>\n",
       "      <th>image_id</th>\n",
       "      <th>dx</th>\n",
       "      <th>dx_type</th>\n",
       "      <th>age</th>\n",
       "      <th>sex</th>\n",
       "      <th>localization</th>\n",
       "      <th>lesion_type</th>\n",
       "      <th>image_path</th>\n",
       "      <th>lesion_type_idx</th>\n",
       "      <th>image_pixel</th>\n",
       "    </tr>\n",
       "  </thead>\n",
       "  <tbody>\n",
       "    <tr>\n",
       "      <th>0</th>\n",
       "      <td>HAM_0000118</td>\n",
       "      <td>ISIC_0027419</td>\n",
       "      <td>bkl</td>\n",
       "      <td>histo</td>\n",
       "      <td>80.0</td>\n",
       "      <td>male</td>\n",
       "      <td>scalp</td>\n",
       "      <td>Benign Keratosis-like Lesions</td>\n",
       "      <td>..\\dataset_skin\\mnist-ham10000\\HAM10000_images...</td>\n",
       "      <td>2</td>\n",
       "      <td>[[[192, 153, 193], [195, 155, 192], [197, 154,...</td>\n",
       "    </tr>\n",
       "    <tr>\n",
       "      <th>1</th>\n",
       "      <td>HAM_0000118</td>\n",
       "      <td>ISIC_0025030</td>\n",
       "      <td>bkl</td>\n",
       "      <td>histo</td>\n",
       "      <td>80.0</td>\n",
       "      <td>male</td>\n",
       "      <td>scalp</td>\n",
       "      <td>Benign Keratosis-like Lesions</td>\n",
       "      <td>..\\dataset_skin\\mnist-ham10000\\HAM10000_images...</td>\n",
       "      <td>2</td>\n",
       "      <td>[[[27, 16, 32], [69, 49, 76], [122, 93, 126], ...</td>\n",
       "    </tr>\n",
       "    <tr>\n",
       "      <th>2</th>\n",
       "      <td>HAM_0002730</td>\n",
       "      <td>ISIC_0026769</td>\n",
       "      <td>bkl</td>\n",
       "      <td>histo</td>\n",
       "      <td>80.0</td>\n",
       "      <td>male</td>\n",
       "      <td>scalp</td>\n",
       "      <td>Benign Keratosis-like Lesions</td>\n",
       "      <td>..\\dataset_skin\\mnist-ham10000\\HAM10000_images...</td>\n",
       "      <td>2</td>\n",
       "      <td>[[[192, 138, 153], [200, 144, 162], [202, 142,...</td>\n",
       "    </tr>\n",
       "    <tr>\n",
       "      <th>3</th>\n",
       "      <td>HAM_0002730</td>\n",
       "      <td>ISIC_0025661</td>\n",
       "      <td>bkl</td>\n",
       "      <td>histo</td>\n",
       "      <td>80.0</td>\n",
       "      <td>male</td>\n",
       "      <td>scalp</td>\n",
       "      <td>Benign Keratosis-like Lesions</td>\n",
       "      <td>..\\dataset_skin\\mnist-ham10000\\HAM10000_images...</td>\n",
       "      <td>2</td>\n",
       "      <td>[[[40, 21, 31], [95, 61, 73], [143, 102, 118],...</td>\n",
       "    </tr>\n",
       "    <tr>\n",
       "      <th>4</th>\n",
       "      <td>HAM_0001466</td>\n",
       "      <td>ISIC_0031633</td>\n",
       "      <td>bkl</td>\n",
       "      <td>histo</td>\n",
       "      <td>75.0</td>\n",
       "      <td>male</td>\n",
       "      <td>ear</td>\n",
       "      <td>Benign Keratosis-like Lesions</td>\n",
       "      <td>..\\dataset_skin\\mnist-ham10000\\HAM10000_images...</td>\n",
       "      <td>2</td>\n",
       "      <td>[[[159, 114, 140], [194, 144, 173], [215, 162,...</td>\n",
       "    </tr>\n",
       "  </tbody>\n",
       "</table>\n",
       "</div>"
      ],
      "text/plain": [
       "     lesion_id      image_id   dx dx_type   age   sex localization  \\\n",
       "0  HAM_0000118  ISIC_0027419  bkl   histo  80.0  male        scalp   \n",
       "1  HAM_0000118  ISIC_0025030  bkl   histo  80.0  male        scalp   \n",
       "2  HAM_0002730  ISIC_0026769  bkl   histo  80.0  male        scalp   \n",
       "3  HAM_0002730  ISIC_0025661  bkl   histo  80.0  male        scalp   \n",
       "4  HAM_0001466  ISIC_0031633  bkl   histo  75.0  male          ear   \n",
       "\n",
       "                     lesion_type  \\\n",
       "0  Benign Keratosis-like Lesions   \n",
       "1  Benign Keratosis-like Lesions   \n",
       "2  Benign Keratosis-like Lesions   \n",
       "3  Benign Keratosis-like Lesions   \n",
       "4  Benign Keratosis-like Lesions   \n",
       "\n",
       "                                          image_path  lesion_type_idx  \\\n",
       "0  ..\\dataset_skin\\mnist-ham10000\\HAM10000_images...                2   \n",
       "1  ..\\dataset_skin\\mnist-ham10000\\HAM10000_images...                2   \n",
       "2  ..\\dataset_skin\\mnist-ham10000\\HAM10000_images...                2   \n",
       "3  ..\\dataset_skin\\mnist-ham10000\\HAM10000_images...                2   \n",
       "4  ..\\dataset_skin\\mnist-ham10000\\HAM10000_images...                2   \n",
       "\n",
       "                                         image_pixel  \n",
       "0  [[[192, 153, 193], [195, 155, 192], [197, 154,...  \n",
       "1  [[[27, 16, 32], [69, 49, 76], [122, 93, 126], ...  \n",
       "2  [[[192, 138, 153], [200, 144, 162], [202, 142,...  \n",
       "3  [[[40, 21, 31], [95, 61, 73], [143, 102, 118],...  \n",
       "4  [[[159, 114, 140], [194, 144, 173], [215, 162,...  "
      ]
     },
     "execution_count": 18,
     "metadata": {},
     "output_type": "execute_result"
    }
   ],
   "source": [
    "df.head()"
   ]
  },
  {
   "cell_type": "markdown",
   "id": "a10d142a",
   "metadata": {},
   "source": [
    "## Data Exploratory"
   ]
  },
  {
   "cell_type": "code",
   "execution_count": 19,
   "id": "988d00e1",
   "metadata": {},
   "outputs": [
    {
     "data": {
      "text/plain": [
       "Melanocytic Nevi                 6704\n",
       "Melanoma                         1113\n",
       "Benign Keratosis-like Lesions    1099\n",
       "Basal Cell Carcinoma              514\n",
       "Actinic Keratoses                 327\n",
       "Vascular Lesions                  142\n",
       "Dermatofibroma                    115\n",
       "Name: lesion_type, dtype: int64"
      ]
     },
     "execution_count": 19,
     "metadata": {},
     "output_type": "execute_result"
    }
   ],
   "source": [
    "df['lesion_type'].value_counts()"
   ]
  },
  {
   "cell_type": "code",
   "execution_count": 20,
   "id": "83f7d790",
   "metadata": {},
   "outputs": [
    {
     "name": "stderr",
     "output_type": "stream",
     "text": [
      "C:\\Users\\Lenovo\\anaconda3\\lib\\site-packages\\seaborn\\_decorators.py:36: FutureWarning: Pass the following variable as a keyword arg: x. From version 0.12, the only valid positional argument will be `data`, and passing other arguments without an explicit keyword will result in an error or misinterpretation.\n",
      "  warnings.warn(\n"
     ]
    },
    {
     "data": {
      "text/plain": [
       "<AxesSubplot:xlabel='lesion_type', ylabel='count'>"
      ]
     },
     "execution_count": 20,
     "metadata": {},
     "output_type": "execute_result"
    },
    {
     "data": {
      "image/png": "[encoded data removed]",
      "text/plain": [
       "<Figure size 720x720 with 1 Axes>"
      ]
     },
     "metadata": {
      "needs_background": "light"
     },
     "output_type": "display_data"
    }
   ],
   "source": [
    "plt.figure(figsize = (10,10))\n",
    "sns.set_style(\"darkgrid\")\n",
    "sns.countplot(df['lesion_type'])"
   ]
  },
  {
   "cell_type": "code",
   "execution_count": 21,
   "id": "c024b4fe",
   "metadata": {},
   "outputs": [
    {
     "name": "stdout",
     "output_type": "stream",
     "text": [
      "0 : lesion_id\n",
      "1 : image_id\n",
      "2 : dx\n",
      "3 : dx_type\n",
      "4 : age\n",
      "5 : sex\n",
      "6 : localization\n",
      "7 : lesion_type\n",
      "8 : image_path\n",
      "9 : lesion_type_idx\n",
      "10 : image_pixel\n"
     ]
    }
   ],
   "source": [
    "# Listing the index number of each column to use in df sample\n",
    "for i in df.columns:\n",
    "   print(df.columns.get_loc(i), ':', i)"
   ]
  },
  {
   "cell_type": "code",
   "execution_count": 22,
   "id": "8bacd1bc",
   "metadata": {},
   "outputs": [
    {
     "data": {
      "image/png": "[encoded data removed]",
      "text/plain": [
       "<Figure size 1440x2160 with 7 Axes>"
      ]
     },
     "metadata": {},
     "output_type": "display_data"
    }
   ],
   "source": [
    "# create sample data to display\n",
    "df_sample = df.groupby('dx').apply(lambda df: df.iloc[:1, [7, 10]])\n",
    "\n",
    "# display sample data\n",
    "plt.figure(figsize=(20,30))\n",
    "for i in range(len(df_sample)):\n",
    "    plt.subplot(7, 4, i + 1)\n",
    "    plt.imshow(df_sample['image_pixel'][i])\n",
    "    plt.title(df_sample['lesion_type'][i])\n",
    "    plt.axis(\"off\")\n",
    "plt.show()"
   ]
  },
  {
   "cell_type": "code",
   "execution_count": 23,
   "id": "999a50cb",
   "metadata": {},
   "outputs": [],
   "source": [
    "df = df.sort_values('lesion_type_idx')\n",
    "df = df.reset_index()"
   ]
  },
  {
   "cell_type": "code",
   "execution_count": 24,
   "id": "915e0bb4",
   "metadata": {},
   "outputs": [
    {
     "data": {
      "text/html": [
       "<div>\n",
       "<style scoped>\n",
       "    .dataframe tbody tr th:only-of-type {\n",
       "        vertical-align: middle;\n",
       "    }\n",
       "\n",
       "    .dataframe tbody tr th {\n",
       "        vertical-align: top;\n",
       "    }\n",
       "\n",
       "    .dataframe thead th {\n",
       "        text-align: right;\n",
       "    }\n",
       "</style>\n",
       "<table border=\"1\" class=\"dataframe\">\n",
       "  <thead>\n",
       "    <tr style=\"text-align: right;\">\n",
       "      <th></th>\n",
       "      <th>index</th>\n",
       "      <th>lesion_id</th>\n",
       "      <th>image_id</th>\n",
       "      <th>dx</th>\n",
       "      <th>dx_type</th>\n",
       "      <th>age</th>\n",
       "      <th>sex</th>\n",
       "      <th>localization</th>\n",
       "      <th>lesion_type</th>\n",
       "      <th>image_path</th>\n",
       "      <th>lesion_type_idx</th>\n",
       "      <th>image_pixel</th>\n",
       "    </tr>\n",
       "  </thead>\n",
       "  <tbody>\n",
       "    <tr>\n",
       "      <th>0</th>\n",
       "      <td>9804</td>\n",
       "      <td>HAM_0000501</td>\n",
       "      <td>ISIC_0031335</td>\n",
       "      <td>akiec</td>\n",
       "      <td>histo</td>\n",
       "      <td>60.0</td>\n",
       "      <td>male</td>\n",
       "      <td>face</td>\n",
       "      <td>Actinic Keratoses</td>\n",
       "      <td>..\\dataset_skin\\mnist-ham10000\\HAM10000_images...</td>\n",
       "      <td>0</td>\n",
       "      <td>[[[183, 129, 133], [185, 130, 131], [186, 127,...</td>\n",
       "    </tr>\n",
       "    <tr>\n",
       "      <th>1</th>\n",
       "      <td>9790</td>\n",
       "      <td>HAM_0004609</td>\n",
       "      <td>ISIC_0024710</td>\n",
       "      <td>akiec</td>\n",
       "      <td>histo</td>\n",
       "      <td>75.0</td>\n",
       "      <td>male</td>\n",
       "      <td>back</td>\n",
       "      <td>Actinic Keratoses</td>\n",
       "      <td>..\\dataset_skin\\mnist-ham10000\\HAM10000_images...</td>\n",
       "      <td>0</td>\n",
       "      <td>[[[214, 197, 211], [216, 197, 213], [218, 201,...</td>\n",
       "    </tr>\n",
       "    <tr>\n",
       "      <th>2</th>\n",
       "      <td>9791</td>\n",
       "      <td>HAM_0004780</td>\n",
       "      <td>ISIC_0029315</td>\n",
       "      <td>akiec</td>\n",
       "      <td>histo</td>\n",
       "      <td>75.0</td>\n",
       "      <td>male</td>\n",
       "      <td>lower extremity</td>\n",
       "      <td>Actinic Keratoses</td>\n",
       "      <td>..\\dataset_skin\\mnist-ham10000\\HAM10000_images...</td>\n",
       "      <td>0</td>\n",
       "      <td>[[[178, 153, 154], [186, 166, 172], [190, 172,...</td>\n",
       "    </tr>\n",
       "    <tr>\n",
       "      <th>3</th>\n",
       "      <td>9792</td>\n",
       "      <td>HAM_0003157</td>\n",
       "      <td>ISIC_0029811</td>\n",
       "      <td>akiec</td>\n",
       "      <td>histo</td>\n",
       "      <td>65.0</td>\n",
       "      <td>male</td>\n",
       "      <td>upper extremity</td>\n",
       "      <td>Actinic Keratoses</td>\n",
       "      <td>..\\dataset_skin\\mnist-ham10000\\HAM10000_images...</td>\n",
       "      <td>0</td>\n",
       "      <td>[[[200, 152, 165], [204, 161, 179], [206, 163,...</td>\n",
       "    </tr>\n",
       "    <tr>\n",
       "      <th>4</th>\n",
       "      <td>9793</td>\n",
       "      <td>HAM_0005505</td>\n",
       "      <td>ISIC_0024450</td>\n",
       "      <td>akiec</td>\n",
       "      <td>histo</td>\n",
       "      <td>50.0</td>\n",
       "      <td>male</td>\n",
       "      <td>upper extremity</td>\n",
       "      <td>Actinic Keratoses</td>\n",
       "      <td>..\\dataset_skin\\mnist-ham10000\\HAM10000_images...</td>\n",
       "      <td>0</td>\n",
       "      <td>[[[130, 93, 93], [182, 145, 144], [203, 166, 1...</td>\n",
       "    </tr>\n",
       "  </tbody>\n",
       "</table>\n",
       "</div>"
      ],
      "text/plain": [
       "   index    lesion_id      image_id     dx dx_type   age   sex  \\\n",
       "0   9804  HAM_0000501  ISIC_0031335  akiec   histo  60.0  male   \n",
       "1   9790  HAM_0004609  ISIC_0024710  akiec   histo  75.0  male   \n",
       "2   9791  HAM_0004780  ISIC_0029315  akiec   histo  75.0  male   \n",
       "3   9792  HAM_0003157  ISIC_0029811  akiec   histo  65.0  male   \n",
       "4   9793  HAM_0005505  ISIC_0024450  akiec   histo  50.0  male   \n",
       "\n",
       "      localization        lesion_type  \\\n",
       "0             face  Actinic Keratoses   \n",
       "1             back  Actinic Keratoses   \n",
       "2  lower extremity  Actinic Keratoses   \n",
       "3  upper extremity  Actinic Keratoses   \n",
       "4  upper extremity  Actinic Keratoses   \n",
       "\n",
       "                                          image_path  lesion_type_idx  \\\n",
       "0  ..\\dataset_skin\\mnist-ham10000\\HAM10000_images...                0   \n",
       "1  ..\\dataset_skin\\mnist-ham10000\\HAM10000_images...                0   \n",
       "2  ..\\dataset_skin\\mnist-ham10000\\HAM10000_images...                0   \n",
       "3  ..\\dataset_skin\\mnist-ham10000\\HAM10000_images...                0   \n",
       "4  ..\\dataset_skin\\mnist-ham10000\\HAM10000_images...                0   \n",
       "\n",
       "                                         image_pixel  \n",
       "0  [[[183, 129, 133], [185, 130, 131], [186, 127,...  \n",
       "1  [[[214, 197, 211], [216, 197, 213], [218, 201,...  \n",
       "2  [[[178, 153, 154], [186, 166, 172], [190, 172,...  \n",
       "3  [[[200, 152, 165], [204, 161, 179], [206, 163,...  \n",
       "4  [[[130, 93, 93], [182, 145, 144], [203, 166, 1...  "
      ]
     },
     "execution_count": 24,
     "metadata": {},
     "output_type": "execute_result"
    }
   ],
   "source": [
    "df.head()"
   ]
  },
  {
   "cell_type": "code",
   "execution_count": 25,
   "id": "6bc3bbd5",
   "metadata": {},
   "outputs": [
    {
     "data": {
      "text/plain": [
       "(10014, 12)"
      ]
     },
     "execution_count": 25,
     "metadata": {},
     "output_type": "execute_result"
    }
   ],
   "source": [
    "df.shape"
   ]
  },
  {
   "cell_type": "markdown",
   "id": "42ae1d17",
   "metadata": {},
   "source": [
    "## Define X and Y"
   ]
  },
  {
   "cell_type": "code",
   "execution_count": 26,
   "id": "b39be409",
   "metadata": {},
   "outputs": [
    {
     "name": "stdout",
     "output_type": "stream",
     "text": [
      "(10014, 28, 28, 3)\n"
     ]
    }
   ],
   "source": [
    "X = df['image_pixel'].to_numpy()\n",
    "X = np.stack(X, axis=0)\n",
    "print(X.shape)"
   ]
  },
  {
   "cell_type": "code",
   "execution_count": 27,
   "id": "5db60fdb",
   "metadata": {},
   "outputs": [
    {
     "name": "stdout",
     "output_type": "stream",
     "text": [
      "(10014, 1)\n"
     ]
    }
   ],
   "source": [
    "Y = df['lesion_type_idx'].to_numpy()\n",
    "Y = np.expand_dims(Y, axis=1)\n",
    "print(Y.shape)"
   ]
  },
  {
   "cell_type": "code",
   "execution_count": 28,
   "id": "ae52805a",
   "metadata": {},
   "outputs": [
    {
     "data": {
      "text/plain": [
       "4    6704\n",
       "5    1113\n",
       "2    1099\n",
       "1     514\n",
       "0     327\n",
       "6     142\n",
       "3     115\n",
       "Name: lesion_type_idx, dtype: int64"
      ]
     },
     "execution_count": 28,
     "metadata": {},
     "output_type": "execute_result"
    }
   ],
   "source": [
    "df.sort_values('lesion_type_idx')['lesion_type_idx'].value_counts()"
   ]
  },
  {
   "cell_type": "code",
   "execution_count": 29,
   "id": "9e6a5557",
   "metadata": {},
   "outputs": [
    {
     "name": "stdout",
     "output_type": "stream",
     "text": [
      "(10014, 28, 28, 3)\n"
     ]
    }
   ],
   "source": [
    "reshaped_X = X.reshape(X.shape[0],-1)\n",
    "print(X.shape)"
   ]
  },
  {
   "cell_type": "code",
   "execution_count": 30,
   "id": "7a1d80ee",
   "metadata": {},
   "outputs": [
    {
     "name": "stdout",
     "output_type": "stream",
     "text": [
      "Shape of Data : (46928, 2352)\n"
     ]
    }
   ],
   "source": [
    "# oversample metode Random Over Sample\n",
    "\n",
    "oversample = RandomOverSampler(random_state=42)\n",
    "reshaped_X, Y  = oversample.fit_resample(reshaped_X,Y)\n",
    "os_X = np.array(reshaped_X).reshape(-1,28,28,3)\n",
    "\n",
    "print('Shape of Data :', reshaped_X.shape)"
   ]
  },
  {
   "cell_type": "code",
   "execution_count": 31,
   "id": "f4af299d",
   "metadata": {},
   "outputs": [],
   "source": [
    "# # oversample metode SMOTE\n",
    "\n",
    "# oversample = SMOTE(random_state=2)\n",
    "# reshaped_X, Y  = oversample.fit_resample(reshaped_X,Y)\n",
    "# os_X = np.array(reshaped_X).reshape(-1,28,28,3)\n",
    "\n",
    "# print('Shape of Data :', os_X.shape)"
   ]
  },
  {
   "cell_type": "code",
   "execution_count": 32,
   "id": "651fb98b",
   "metadata": {},
   "outputs": [
    {
     "name": "stderr",
     "output_type": "stream",
     "text": [
      "C:\\Users\\Lenovo\\anaconda3\\lib\\site-packages\\seaborn\\_decorators.py:36: FutureWarning: Pass the following variable as a keyword arg: x. From version 0.12, the only valid positional argument will be `data`, and passing other arguments without an explicit keyword will result in an error or misinterpretation.\n",
      "  warnings.warn(\n"
     ]
    },
    {
     "data": {
      "image/png": "[encoded data removed]",
      "text/plain": [
       "<Figure size 720x720 with 1 Axes>"
      ]
     },
     "metadata": {},
     "output_type": "display_data"
    }
   ],
   "source": [
    "plt.figure(figsize = (10,10))\n",
    "ax = sns.countplot(Y, x=\"labels\")\n"
   ]
  },
  {
   "cell_type": "code",
   "execution_count": 39,
   "id": "041c1cdc",
   "metadata": {},
   "outputs": [],
   "source": [
    "X_train, X_test, Y_train, Y_test = train_test_prepare(os_X, Y)"
   ]
  },
  {
   "cell_type": "code",
   "execution_count": 40,
   "id": "5a4a8736",
   "metadata": {},
   "outputs": [
    {
     "name": "stdout",
     "output_type": "stream",
     "text": [
      "train data :  37542\n",
      "test data :  9386\n"
     ]
    }
   ],
   "source": [
    "print('train data : ', len(X_train))\n",
    "print('test data : ', len(X_test))"
   ]
  },
  {
   "cell_type": "code",
   "execution_count": 41,
   "id": "a37b86ab",
   "metadata": {},
   "outputs": [
    {
     "name": "stdout",
     "output_type": "stream",
     "text": [
      "Model: \"sequential_1\"\n",
      "_________________________________________________________________\n",
      "Layer (type)                 Output Shape              Param #   \n",
      "=================================================================\n",
      "conv2d_3 (Conv2D)            (None, 28, 28, 16)        448       \n",
      "_________________________________________________________________\n",
      "max_pooling2d_3 (MaxPooling2 (None, 14, 14, 16)        0         \n",
      "_________________________________________________________________\n",
      "conv2d_4 (Conv2D)            (None, 14, 14, 32)        4640      \n",
      "_________________________________________________________________\n",
      "max_pooling2d_4 (MaxPooling2 (None, 7, 7, 32)          0         \n",
      "_________________________________________________________________\n",
      "conv2d_5 (Conv2D)            (None, 7, 7, 64)          18496     \n",
      "_________________________________________________________________\n",
      "max_pooling2d_5 (MaxPooling2 (None, 3, 3, 64)          0         \n",
      "_________________________________________________________________\n",
      "flatten_1 (Flatten)          (None, 576)               0         \n",
      "_________________________________________________________________\n",
      "dense_3 (Dense)              (None, 32)                18464     \n",
      "_________________________________________________________________\n",
      "dense_4 (Dense)              (None, 16)                528       \n",
      "_________________________________________________________________\n",
      "dense_5 (Dense)              (None, 7)                 119       \n",
      "=================================================================\n",
      "Total params: 42,695\n",
      "Trainable params: 42,695\n",
      "Non-trainable params: 0\n",
      "_________________________________________________________________\n",
      "None\n"
     ]
    }
   ],
   "source": [
    "model = model_build()"
   ]
  },
  {
   "cell_type": "code",
   "execution_count": 42,
   "id": "51fe2ebf",
   "metadata": {},
   "outputs": [
    {
     "data": {
      "image/png": "[encoded data removed]",
      "text/plain": [
       "<IPython.core.display.Image object>"
      ]
     },
     "execution_count": 42,
     "metadata": {},
     "output_type": "execute_result"
    }
   ],
   "source": [
    "tf.keras.utils.plot_model(model)"
   ]
  },
  {
   "cell_type": "code",
   "execution_count": 43,
   "id": "423b0c1c",
   "metadata": {},
   "outputs": [
    {
     "name": "stdout",
     "output_type": "stream",
     "text": [
      "Epoch 1/50\n",
      "528/528 [==============================] - 15s 28ms/step - loss: 1.6210 - accuracy: 0.4242 - val_loss: 1.0752 - val_accuracy: 0.5819 - lr: 0.0010\n",
      "Epoch 2/50\n",
      "528/528 [==============================] - 23s 43ms/step - loss: 0.9413 - accuracy: 0.6374 - val_loss: 0.8316 - val_accuracy: 0.6780 - lr: 0.0010\n",
      "Epoch 3/50\n",
      "528/528 [==============================] - 21s 41ms/step - loss: 0.7205 - accuracy: 0.7231 - val_loss: 0.6525 - val_accuracy: 0.7494 - lr: 0.0010\n",
      "Epoch 4/50\n",
      "528/528 [==============================] - 20s 39ms/step - loss: 0.5599 - accuracy: 0.7899 - val_loss: 0.5160 - val_accuracy: 0.8107 - lr: 0.0010\n",
      "Epoch 5/50\n",
      "528/528 [==============================] - 20s 38ms/step - loss: 0.4595 - accuracy: 0.8302 - val_loss: 0.3863 - val_accuracy: 0.8687 - lr: 0.0010\n",
      "Epoch 6/50\n",
      "528/528 [==============================] - 20s 38ms/step - loss: 0.3668 - accuracy: 0.8660 - val_loss: 0.3493 - val_accuracy: 0.8772 - lr: 0.0010\n",
      "Epoch 7/50\n",
      "528/528 [==============================] - 22s 42ms/step - loss: 0.2985 - accuracy: 0.8948 - val_loss: 0.3878 - val_accuracy: 0.8676 - lr: 0.0010\n",
      "Epoch 8/50\n",
      "528/528 [==============================] - 29s 55ms/step - loss: 0.2827 - accuracy: 0.8980 - val_loss: 0.3168 - val_accuracy: 0.8948 - lr: 0.0010\n",
      "Epoch 9/50\n",
      "528/528 [==============================] - 25s 47ms/step - loss: 0.2321 - accuracy: 0.9155 - val_loss: 0.3124 - val_accuracy: 0.8924 - lr: 0.0010\n",
      "Epoch 10/50\n",
      "528/528 [==============================] - 26s 50ms/step - loss: 0.2288 - accuracy: 0.9174 - val_loss: 0.2430 - val_accuracy: 0.9132 - lr: 0.0010\n",
      "Epoch 11/50\n",
      "528/528 [==============================] - 20s 37ms/step - loss: 0.2017 - accuracy: 0.9281 - val_loss: 0.2088 - val_accuracy: 0.9284 - lr: 0.0010\n",
      "Epoch 12/50\n",
      "528/528 [==============================] - 19s 37ms/step - loss: 0.1841 - accuracy: 0.9339 - val_loss: 0.3530 - val_accuracy: 0.8847 - lr: 0.0010\n",
      "Epoch 13/50\n",
      "528/528 [==============================] - 19s 36ms/step - loss: 0.1915 - accuracy: 0.9317 - val_loss: 0.2261 - val_accuracy: 0.9286 - lr: 0.0010\n",
      "Epoch 14/50\n",
      "528/528 [==============================] - 20s 37ms/step - loss: 0.1600 - accuracy: 0.9427 - val_loss: 0.2331 - val_accuracy: 0.9206 - lr: 0.0010\n",
      "Epoch 15/50\n",
      "528/528 [==============================] - 20s 37ms/step - loss: 0.1725 - accuracy: 0.9385 - val_loss: 0.2081 - val_accuracy: 0.9332 - lr: 0.0010\n",
      "Epoch 16/50\n",
      "528/528 [==============================] - 30s 57ms/step - loss: 0.1606 - accuracy: 0.9419 - val_loss: 0.3203 - val_accuracy: 0.8929 - lr: 0.0010\n",
      "Epoch 17/50\n",
      "528/528 [==============================] - 23s 43ms/step - loss: 0.1462 - accuracy: 0.9481 - val_loss: 0.2088 - val_accuracy: 0.9377 - lr: 0.0010\n",
      "Epoch 18/50\n",
      "528/528 [==============================] - 20s 37ms/step - loss: 0.1412 - accuracy: 0.9497 - val_loss: 0.2522 - val_accuracy: 0.9241 - lr: 0.0010\n",
      "Epoch 19/50\n",
      "528/528 [==============================] - 20s 37ms/step - loss: 0.1315 - accuracy: 0.9539 - val_loss: 0.2077 - val_accuracy: 0.9385 - lr: 0.0010\n",
      "Epoch 20/50\n",
      "528/528 [==============================] - 20s 37ms/step - loss: 0.1369 - accuracy: 0.9533 - val_loss: 0.1914 - val_accuracy: 0.9475 - lr: 0.0010\n",
      "Epoch 21/50\n",
      "528/528 [==============================] - 20s 38ms/step - loss: 0.1476 - accuracy: 0.9500 - val_loss: 0.2138 - val_accuracy: 0.9369 - lr: 0.0010\n",
      "Epoch 22/50\n",
      "528/528 [==============================] - 21s 40ms/step - loss: 0.0925 - accuracy: 0.9680 - val_loss: 0.1980 - val_accuracy: 0.9387 - lr: 0.0010\n",
      "Epoch 23/50\n",
      "528/528 [==============================] - 21s 40ms/step - loss: 0.1476 - accuracy: 0.9502 - val_loss: 0.2725 - val_accuracy: 0.9241 - lr: 0.0010\n",
      "Epoch 24/50\n",
      "528/528 [==============================] - 28s 53ms/step - loss: 0.0986 - accuracy: 0.9649 - val_loss: 0.2597 - val_accuracy: 0.9260 - lr: 0.0010\n",
      "Epoch 25/50\n",
      "528/528 [==============================] - ETA: 0s - loss: 0.0994 - accuracy: 0.9657\n",
      "Epoch 00025: ReduceLROnPlateau reducing learning rate to 0.00010000000474974513.\n",
      "528/528 [==============================] - 21s 40ms/step - loss: 0.0994 - accuracy: 0.9657 - val_loss: 0.2924 - val_accuracy: 0.9233 - lr: 0.0010\n",
      "Epoch 26/50\n",
      "528/528 [==============================] - 21s 40ms/step - loss: 0.0499 - accuracy: 0.9828 - val_loss: 0.1240 - val_accuracy: 0.9691 - lr: 1.0000e-04\n",
      "Epoch 27/50\n",
      "528/528 [==============================] - 24s 45ms/step - loss: 0.0340 - accuracy: 0.9892 - val_loss: 0.1189 - val_accuracy: 0.9715 - lr: 1.0000e-04\n",
      "Epoch 28/50\n",
      "528/528 [==============================] - 24s 45ms/step - loss: 0.0288 - accuracy: 0.9916 - val_loss: 0.1159 - val_accuracy: 0.9739 - lr: 1.0000e-04\n",
      "Epoch 29/50\n",
      "528/528 [==============================] - 19s 36ms/step - loss: 0.0253 - accuracy: 0.9927 - val_loss: 0.1142 - val_accuracy: 0.9731 - lr: 1.0000e-04\n",
      "Epoch 30/50\n",
      "528/528 [==============================] - 22s 42ms/step - loss: 0.0223 - accuracy: 0.9936 - val_loss: 0.1079 - val_accuracy: 0.9763 - lr: 1.0000e-04\n",
      "Epoch 31/50\n",
      "528/528 [==============================] - 20s 38ms/step - loss: 0.0198 - accuracy: 0.9949 - val_loss: 0.1089 - val_accuracy: 0.9734 - lr: 1.0000e-04\n",
      "Epoch 32/50\n",
      "528/528 [==============================] - 21s 39ms/step - loss: 0.0174 - accuracy: 0.9952 - val_loss: 0.1108 - val_accuracy: 0.9736 - lr: 1.0000e-04\n",
      "Epoch 33/50\n",
      "528/528 [==============================] - 21s 40ms/step - loss: 0.0156 - accuracy: 0.9959 - val_loss: 0.1112 - val_accuracy: 0.9752 - lr: 1.0000e-04\n",
      "Epoch 34/50\n",
      "528/528 [==============================] - 22s 42ms/step - loss: 0.0140 - accuracy: 0.9967 - val_loss: 0.1164 - val_accuracy: 0.9736 - lr: 1.0000e-04\n",
      "Epoch 35/50\n",
      "528/528 [==============================] - ETA: 0s - loss: 0.0125 - accuracy: 0.9970\n",
      "Epoch 00035: ReduceLROnPlateau reducing learning rate to 1.0000000474974514e-05.\n",
      "528/528 [==============================] - 21s 39ms/step - loss: 0.0125 - accuracy: 0.9970 - val_loss: 0.1201 - val_accuracy: 0.9739 - lr: 1.0000e-04\n",
      "Epoch 36/50\n",
      "528/528 [==============================] - 21s 39ms/step - loss: 0.0100 - accuracy: 0.9980 - val_loss: 0.1064 - val_accuracy: 0.9787 - lr: 1.0000e-05\n",
      "Epoch 37/50\n",
      "528/528 [==============================] - 22s 41ms/step - loss: 0.0092 - accuracy: 0.9982 - val_loss: 0.1080 - val_accuracy: 0.9771 - lr: 1.0000e-05\n",
      "Epoch 38/50\n",
      "528/528 [==============================] - 21s 40ms/step - loss: 0.0089 - accuracy: 0.9983 - val_loss: 0.1079 - val_accuracy: 0.9779 - lr: 1.0000e-05\n",
      "Epoch 39/50\n",
      "528/528 [==============================] - 21s 40ms/step - loss: 0.0087 - accuracy: 0.9982 - val_loss: 0.1108 - val_accuracy: 0.9771 - lr: 1.0000e-05\n",
      "Epoch 40/50\n",
      "528/528 [==============================] - 20s 38ms/step - loss: 0.0084 - accuracy: 0.9982 - val_loss: 0.1088 - val_accuracy: 0.9776 - lr: 1.0000e-05\n",
      "Epoch 41/50\n",
      "528/528 [==============================] - ETA: 0s - loss: 0.0082 - accuracy: 0.9983\n",
      "Epoch 00041: ReduceLROnPlateau reducing learning rate to 1.0000000656873453e-06.\n",
      "528/528 [==============================] - 21s 39ms/step - loss: 0.0082 - accuracy: 0.9983 - val_loss: 0.1070 - val_accuracy: 0.9779 - lr: 1.0000e-05\n",
      "Epoch 42/50\n",
      "528/528 [==============================] - 20s 37ms/step - loss: 0.0079 - accuracy: 0.9983 - val_loss: 0.1095 - val_accuracy: 0.9776 - lr: 1.0000e-06\n",
      "Epoch 43/50\n",
      "528/528 [==============================] - 19s 36ms/step - loss: 0.0079 - accuracy: 0.9983 - val_loss: 0.1099 - val_accuracy: 0.9779 - lr: 1.0000e-06\n",
      "Epoch 44/50\n",
      "528/528 [==============================] - 21s 40ms/step - loss: 0.0079 - accuracy: 0.9983 - val_loss: 0.1102 - val_accuracy: 0.9776 - lr: 1.0000e-06\n",
      "Epoch 45/50\n",
      "528/528 [==============================] - 20s 38ms/step - loss: 0.0078 - accuracy: 0.9983 - val_loss: 0.1098 - val_accuracy: 0.9776 - lr: 1.0000e-06\n",
      "Epoch 46/50\n",
      "528/528 [==============================] - ETA: 0s - loss: 0.0078 - accuracy: 0.9983\n",
      "Epoch 00046: ReduceLROnPlateau reducing learning rate to 1.0000001111620805e-07.\n",
      "528/528 [==============================] - 23s 43ms/step - loss: 0.0078 - accuracy: 0.9983 - val_loss: 0.1101 - val_accuracy: 0.9776 - lr: 1.0000e-06\n",
      "Epoch 47/50\n",
      "528/528 [==============================] - 28s 54ms/step - loss: 0.0078 - accuracy: 0.9983 - val_loss: 0.1102 - val_accuracy: 0.9776 - lr: 1.0000e-07\n",
      "Epoch 48/50\n",
      "528/528 [==============================] - 21s 41ms/step - loss: 0.0078 - accuracy: 0.9983 - val_loss: 0.1102 - val_accuracy: 0.9776 - lr: 1.0000e-07\n",
      "Epoch 49/50\n",
      "528/528 [==============================] - 26s 49ms/step - loss: 0.0078 - accuracy: 0.9983 - val_loss: 0.1102 - val_accuracy: 0.9776 - lr: 1.0000e-07\n",
      "Epoch 50/50\n",
      "528/528 [==============================] - 21s 40ms/step - loss: 0.0078 - accuracy: 0.9983 - val_loss: 0.1102 - val_accuracy: 0.9776 - lr: 1.0000e-07\n"
     ]
    }
   ],
   "source": [
    "history = model_train(model, X_train, Y_train, 50)"
   ]
  },
  {
   "cell_type": "code",
   "execution_count": 44,
   "id": "c936b05c",
   "metadata": {},
   "outputs": [
    {
     "data": {
      "image/png": "[encoded data removed]",
      "text/plain": [
       "<Figure size 432x288 with 1 Axes>"
      ]
     },
     "metadata": {},
     "output_type": "display_data"
    },
    {
     "data": {
      "image/png": "[encoded data removed]",
      "text/plain": [
       "<Figure size 432x288 with 1 Axes>"
      ]
     },
     "metadata": {},
     "output_type": "display_data"
    }
   ],
   "source": [
    "plot_acc(history)"
   ]
  },
  {
   "cell_type": "code",
   "execution_count": 45,
   "id": "a41687f9",
   "metadata": {},
   "outputs": [
    {
     "name": "stdout",
     "output_type": "stream",
     "text": [
      "Accuracy : 97.76%\n",
      "              precision    recall  f1-score   support\n",
      "\n",
      "       akiec       1.00      1.00      1.00      1358\n",
      "         bcc       0.99      1.00      1.00      1301\n",
      "         bkl       0.94      0.99      0.97      1312\n",
      "          df       1.00      1.00      1.00      1378\n",
      "          nv       0.98      0.86      0.92      1334\n",
      "         mel       0.93      0.99      0.96      1328\n",
      "        vasc       1.00      1.00      1.00      1375\n",
      "\n",
      "    accuracy                           0.98      9386\n",
      "   macro avg       0.98      0.98      0.98      9386\n",
      "weighted avg       0.98      0.98      0.98      9386\n",
      "\n",
      "[[1358    0    0    0    0    0    0]\n",
      " [   0 1301    0    0    0    0    0]\n",
      " [   0    0 1304    0    8    0    0]\n",
      " [   0    0    0 1378    0    0    0]\n",
      " [   4    9   83    0 1144   93    1]\n",
      " [   0    0    1    0   11 1316    0]\n",
      " [   0    0    0    0    0    0 1375]]\n"
     ]
    },
    {
     "data": {
      "image/png": "[encoded data removed]",
      "text/plain": [
       "<Figure size 720x576 with 2 Axes>"
      ]
     },
     "metadata": {},
     "output_type": "display_data"
    }
   ],
   "source": [
    "matrix_conf(model, X_test, Y_test)"
   ]
  },
  {
   "cell_type": "code",
   "execution_count": 46,
   "id": "3634eb23",
   "metadata": {},
   "outputs": [
    {
     "data": {
      "image/png": "[encoded data removed]",
      "text/plain": [
       "<Figure size 1584x864 with 20 Axes>"
      ]
     },
     "metadata": {},
     "output_type": "display_data"
    }
   ],
   "source": [
    "model_test(model, X_test, Y_test)"
   ]
  },
  {
   "cell_type": "code",
   "execution_count": 43,
   "id": "7f564fe0",
   "metadata": {},
   "outputs": [],
   "source": [
    "import time\n",
    "saved_model_path = \"./model{}.h5\".format(int(time.time()))\n",
    "\n",
    "model.save(saved_model_path)"
   ]
  },
  {
   "cell_type": "code",
   "execution_count": 44,
   "id": "7d54b07d",
   "metadata": {},
   "outputs": [
    {
     "name": "stderr",
     "output_type": "stream",
     "text": [
      "2022-09-04 17:59:24.881418: W tensorflow/stream_executor/platform/default/dso_loader.cc:55] Could not load dynamic library 'cudart64_101.dll'; dlerror: cudart64_101.dll not found\n",
      "2022-09-04 17:59:24.881570: I tensorflow/stream_executor/cuda/cudart_stub.cc:29] Ignore above cudart dlerror if you do not have a GPU set up on your machine.\n"
     ]
    }
   ],
   "source": [
    "!tensorflowjs_converter --input_format=keras {saved_model_path} ./"
   ]
  },
  {
   "cell_type": "markdown",
   "id": "f488c1a0",
   "metadata": {},
   "source": [
    "## "
   ]
  }
 ],
 "metadata": {
  "kernelspec": {
   "display_name": "Python 3",
   "language": "python",
   "name": "python3"
  }
 },
 "nbformat": 4,
 "nbformat_minor": 5
}
